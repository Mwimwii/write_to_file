{
  "nbformat": 4,
  "nbformat_minor": 0,
  "metadata": {
    "colab": {
      "name": "write_to_file.ipynb",
      "provenance": [],
      "collapsed_sections": []
    },
    "kernelspec": {
      "name": "python3",
      "display_name": "Python 3"
    }
  },
  "cells": [
    {
      "cell_type": "markdown",
      "metadata": {
        "id": "QNpMQ2twSuc4",
        "colab_type": "text"
      },
      "source": [
        "# How to write to file in Python\n",
        "\n",
        "There are various deabates on the various stylings in Python, however it all comes down to prefernce or convenience. Below, I've given two exmaples in where the program takes inputs of the firstname and surname, joins both inputs and streams them into a file.\n",
        "\n",
        "## Howards implementation\n",
        "This is a straight forward sequential technique that involves open and closing the iostream."
      ]
    },
    {
      "cell_type": "code",
      "metadata": {
        "id": "vVp4yHXZbSUZ",
        "colab_type": "code",
        "outputId": "509d3333-0ac7-439f-e933-a801c10cd4e2",
        "colab": {
          "base_uri": "https://localhost:8080/",
          "height": 50
        }
      },
      "source": [
        "# Howards implementation.\n",
        "\n",
        "name = input (\"Enter your name: \")\n",
        "surname = input (\"Enter your surname: \")\n",
        "full_name = name + \" \" + surname\n",
        "save_file = open(\"filename\" , \"w\")\n",
        "save_file.write(full_name)\n",
        "save_file.close ( )\n"
      ],
      "execution_count": 0,
      "outputs": [
        {
          "output_type": "stream",
          "text": [
            "Enter your name: mwila\n",
            "Enter your surname: nyi\n"
          ],
          "name": "stdout"
        }
      ]
    },
    {
      "cell_type": "markdown",
      "metadata": {
        "id": "gNPuT9TQUC75",
        "colab_type": "text"
      },
      "source": [
        "## Context Manager\n",
        "With the context manager we can contain all the code within one block and unlike the previous example, we exclude the file.close() since the context manager handles the iostream."
      ]
    },
    {
      "cell_type": "code",
      "metadata": {
        "id": "Tk8gBV_ybap6",
        "colab_type": "code",
        "outputId": "b21fb7f9-446a-460f-9eee-42a6a468cde3",
        "colab": {
          "base_uri": "https://localhost:8080/",
          "height": 50
        }
      },
      "source": [
        "# Context manager implementation. With this method you wont need to worry\n",
        "# about closing the file once you're done writing/reading it.\n",
        "\n",
        "with open(\"filename\", \"w\") as file:\n",
        "  name = input (\"Enter your name: \")\n",
        "  surname = input (\"Enter your surname: \")\n",
        "  file.write(name + \" \" + surname)"
      ],
      "execution_count": 0,
      "outputs": [
        {
          "output_type": "stream",
          "text": [
            "Enter your name: mwi\n",
            "Enter your surname: www\n"
          ],
          "name": "stdout"
        }
      ]
    },
    {
      "cell_type": "markdown",
      "metadata": {
        "id": "PPjKNnqtStJS",
        "colab_type": "text"
      },
      "source": [
        ""
      ]
    }
  ]
}